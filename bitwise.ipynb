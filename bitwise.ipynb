{
 "cells": [
  {
   "cell_type": "markdown",
   "id": "3224d2bf",
   "metadata": {},
   "source": [
    "# Bitwise Operations\n",
    "\n",
    "***\n",
    "\n",
    "Many programming languages have operators that work at the bit level.\n",
    "\n",
    "In Python, we can write binary integer literals by prefixing with '0b'."
   ]
  },
  {
   "cell_type": "code",
   "execution_count": 1,
   "id": "abac0ff8",
   "metadata": {},
   "outputs": [],
   "source": [
    "# Two integers, filled using binary notation.\n",
    "x = 0b0011\n",
    "y = 0b0101"
   ]
  },
  {
   "cell_type": "markdown",
   "id": "d929d517",
   "metadata": {},
   "source": [
    "With [f-strings](https://realpython.com/python-f-strings/), we can print integers in binary using the 'b' flag."
   ]
  },
  {
   "cell_type": "code",
   "execution_count": 2,
   "id": "54db4855",
   "metadata": {},
   "outputs": [
    {
     "name": "stdout",
     "output_type": "stream",
     "text": [
      "00000011\n"
     ]
    }
   ],
   "source": [
    "# Print x in binary with at least 8 0's and 1's, left padding with 0's if needed.\n",
    "print(f'{x:08b}')"
   ]
  },
  {
   "cell_type": "markdown",
   "id": "bf339313",
   "metadata": {},
   "source": [
    "## Operators\n",
    "\n",
    "***\n",
    "\n",
    "https://realpython.com/python-bitwise-operators/"
   ]
  },
  {
   "cell_type": "markdown",
   "id": "84b0ad33",
   "metadata": {},
   "source": [
    "### and"
   ]
  },
  {
   "cell_type": "code",
   "execution_count": 3,
   "id": "a310c1d1",
   "metadata": {},
   "outputs": [
    {
     "name": "stdout",
     "output_type": "stream",
     "text": [
      "  0011\n",
      "& 0101\n",
      "------\n",
      "  0001\n"
     ]
    }
   ],
   "source": [
    "# Print the & truth table.\n",
    "print(f'  {x:04b}')\n",
    "print(f'& {y:04b}')\n",
    "print(f'------')\n",
    "print(f'  {x&y:04b}')"
   ]
  },
  {
   "cell_type": "markdown",
   "id": "7d2c4b50",
   "metadata": {},
   "source": [
    "### or"
   ]
  },
  {
   "cell_type": "code",
   "execution_count": 4,
   "id": "aae1ef2a",
   "metadata": {},
   "outputs": [
    {
     "name": "stdout",
     "output_type": "stream",
     "text": [
      "  0011\n",
      "| 0101\n",
      "------\n",
      "  0111\n"
     ]
    }
   ],
   "source": [
    "# Print the | truth table.\n",
    "print(f'  {x:04b}')\n",
    "print(f'| {y:04b}')\n",
    "print(f'------')\n",
    "print(f'  {x|y:04b}')"
   ]
  },
  {
   "cell_type": "markdown",
   "id": "5a8b48ee",
   "metadata": {},
   "source": [
    "### xor"
   ]
  },
  {
   "cell_type": "code",
   "execution_count": 5,
   "id": "721c5a2b",
   "metadata": {},
   "outputs": [
    {
     "name": "stdout",
     "output_type": "stream",
     "text": [
      "  0011\n",
      "^ 0101\n",
      "------\n",
      "  0110\n"
     ]
    }
   ],
   "source": [
    "# Print the ^ truth table.\n",
    "print(f'  {x:04b}')\n",
    "print(f'^ {y:04b}')\n",
    "print(f'------')\n",
    "print(f'  {x^y:04b}')"
   ]
  },
  {
   "cell_type": "markdown",
   "id": "967d2ac3",
   "metadata": {},
   "source": [
    "### not\n",
    "\n",
    "You have to be careful with not in Python because integers are signed.\n",
    "\n",
    "See: https://realpython.com/python-bitwise-operators/#unsigned-integers"
   ]
  },
  {
   "cell_type": "code",
   "execution_count": 6,
   "id": "c9e43c7c",
   "metadata": {},
   "outputs": [
    {
     "name": "stdout",
     "output_type": "stream",
     "text": [
      "~ 1011\n",
      "------\n",
      "  -1100\n"
     ]
    }
   ],
   "source": [
    "# Print the ~ truth table.\n",
    "# Note we have to be careful here because x is a signed integer.\n",
    "print(f'~ {0b01011:04b}')\n",
    "print(f'------')\n",
    "print(f'  {~0b01011:04b}')"
   ]
  },
  {
   "cell_type": "code",
   "execution_count": 7,
   "id": "0c51e998",
   "metadata": {},
   "outputs": [
    {
     "name": "stdout",
     "output_type": "stream",
     "text": [
      "~ 0011\n",
      "------\n",
      "  1100\n"
     ]
    }
   ],
   "source": [
    "# Print the ~ truth table.\n",
    "# Note we have to be careful here because x is a signed integer.\n",
    "print(f'~ {x:04b}')\n",
    "print(f'------')\n",
    "print(f'  {0b1111&(~x):04b}')"
   ]
  },
  {
   "cell_type": "markdown",
   "id": "cfae4fbb",
   "metadata": {},
   "source": [
    "### shift"
   ]
  },
  {
   "cell_type": "code",
   "execution_count": 8,
   "id": "c6d4a9a9",
   "metadata": {},
   "outputs": [
    {
     "name": "stdout",
     "output_type": "stream",
     "text": [
      "000011 << 2 = 001100\n"
     ]
    }
   ],
   "source": [
    "# Left shift.\n",
    "print(f'{x:06b} << 2 = {x << 2:06b}')"
   ]
  },
  {
   "cell_type": "code",
   "execution_count": 9,
   "id": "5bebeb3d",
   "metadata": {},
   "outputs": [
    {
     "name": "stdout",
     "output_type": "stream",
     "text": [
      "000101 >> 2 = 000001\n"
     ]
    }
   ],
   "source": [
    "# Right shift.\n",
    "print(f'{y:06b} >> 2 = {y >> 2:06b}')"
   ]
  },
  {
   "cell_type": "markdown",
   "id": "6a005b59",
   "metadata": {},
   "source": [
    "## Masks\n",
    "\n",
    "***"
   ]
  },
  {
   "cell_type": "code",
   "execution_count": 10,
   "id": "ef3118af",
   "metadata": {},
   "outputs": [],
   "source": [
    "# Two integers, filled using binary notation.\n",
    "x = 0b01101001\n",
    "y = 0b11110000"
   ]
  },
  {
   "cell_type": "markdown",
   "id": "a40185f7",
   "metadata": {},
   "source": [
    "### Right-most bit"
   ]
  },
  {
   "cell_type": "code",
   "execution_count": 11,
   "id": "a14e0393",
   "metadata": {},
   "outputs": [
    {
     "name": "stdout",
     "output_type": "stream",
     "text": [
      "  01101001\n",
      "& 00000001\n",
      "----------\n",
      "  00000001\n",
      "\n"
     ]
    }
   ],
   "source": [
    "# Select only the right-most bit.\n",
    "mask = 0b00000001\n",
    "\n",
    "# Mask of x.\n",
    "print(f'  {x:08b}')\n",
    "print(f'& {mask:08b}')\n",
    "print(f'----------')\n",
    "print(f'  {x&mask:08b}')\n",
    "print()"
   ]
  },
  {
   "cell_type": "code",
   "execution_count": 12,
   "id": "4a5cdef8",
   "metadata": {},
   "outputs": [
    {
     "name": "stdout",
     "output_type": "stream",
     "text": [
      "  11110000\n",
      "& 00000001\n",
      "----------\n",
      "  00000000\n"
     ]
    }
   ],
   "source": [
    "# Mask of y.\n",
    "print(f'  {y:08b}')\n",
    "print(f'& {mask:08b}')\n",
    "print(f'----------')\n",
    "print(f'  {y&mask:08b}')"
   ]
  },
  {
   "cell_type": "markdown",
   "id": "ce1b1246",
   "metadata": {},
   "source": [
    "### Right-most four bits"
   ]
  },
  {
   "cell_type": "code",
   "execution_count": 13,
   "id": "94938b37",
   "metadata": {},
   "outputs": [
    {
     "name": "stdout",
     "output_type": "stream",
     "text": [
      "  01101001\n",
      "& 00001111\n",
      "----------\n",
      "  00001001\n",
      "\n"
     ]
    }
   ],
   "source": [
    "# Select only the four right-most bits.\n",
    "mask = 0b00001111\n",
    "\n",
    "# Mask of x.\n",
    "print(f'  {x:08b}')\n",
    "print(f'& {mask:08b}')\n",
    "print(f'----------')\n",
    "print(f'  {x&mask:08b}')\n",
    "print()"
   ]
  },
  {
   "cell_type": "code",
   "execution_count": 14,
   "id": "75abde9e",
   "metadata": {},
   "outputs": [
    {
     "name": "stdout",
     "output_type": "stream",
     "text": [
      "  11110000\n",
      "& 00001111\n",
      "----------\n",
      "  00000000\n"
     ]
    }
   ],
   "source": [
    "# Mask of y.\n",
    "print(f'  {y:08b}')\n",
    "print(f'& {mask:08b}')\n",
    "print(f'----------')\n",
    "print(f'  {y&mask:08b}')"
   ]
  },
  {
   "cell_type": "code",
   "execution_count": 15,
   "id": "60865e39",
   "metadata": {},
   "outputs": [
    {
     "data": {
      "text/plain": [
       "b'\\x01'"
      ]
     },
     "execution_count": 15,
     "metadata": {},
     "output_type": "execute_result"
    }
   ],
   "source": [
    "bytes.fromhex('01')"
   ]
  },
  {
   "cell_type": "markdown",
   "id": "0f9f9ab9",
   "metadata": {},
   "source": [
    "***\n",
    "\n",
    "### End"
   ]
  }
 ],
 "metadata": {
  "kernelspec": {
   "display_name": "Python 3 (ipykernel)",
   "language": "python",
   "name": "python3"
  },
  "language_info": {
   "codemirror_mode": {
    "name": "ipython",
    "version": 3
   },
   "file_extension": ".py",
   "mimetype": "text/x-python",
   "name": "python",
   "nbconvert_exporter": "python",
   "pygments_lexer": "ipython3",
   "version": "3.9.13"
  }
 },
 "nbformat": 4,
 "nbformat_minor": 5
}
